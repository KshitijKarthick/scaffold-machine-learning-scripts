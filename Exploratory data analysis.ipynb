{
 "cells": [
  {
   "cell_type": "code",
   "execution_count": 1,
   "metadata": {
    "collapsed": true
   },
   "outputs": [],
   "source": [
    "# Imports\n",
    "import os\n",
    "from datetime import datetime\n",
    "import pandas as pd\n",
    "import numpy as np"
   ]
  },
  {
   "cell_type": "code",
   "execution_count": 2,
   "metadata": {
    "collapsed": true
   },
   "outputs": [],
   "source": [
    "# Update the filename\n",
    "FILENAME = 'dummy.csv'"
   ]
  },
  {
   "cell_type": "code",
   "execution_count": 3,
   "metadata": {
    "collapsed": true
   },
   "outputs": [],
   "source": [
    "# Constants Declaration\n",
    "DATASET_DIR = './data/'\n",
    "RESULT_DIR = './result/'\n",
    "EXTENSION_MAPPING = {\n",
    "    'read': {\n",
    "        'csv': 'read_csv',\n",
    "        'json': 'read_json',\n",
    "        'xlsx': 'read_excel'   \n",
    "    },\n",
    "    'save': {\n",
    "        'csv': 'to_csv',\n",
    "        'json': 'to_json',\n",
    "        'xlsx': 'to_excel'      \n",
    "    }\n",
    "}\n",
    "np.random.seed(seed=42)"
   ]
  },
  {
   "cell_type": "code",
   "execution_count": 5,
   "metadata": {
    "collapsed": false
   },
   "outputs": [
    {
     "name": "stdout",
     "output_type": "stream",
     "text": [
      "./data/dummy.csv\n"
     ]
    }
   ],
   "source": [
    "# Dataset Loader\n",
    "DATASET_FILE = os.path.join(DATASET_DIR, FILENAME)\n",
    "file_path, file_extension = os.path.splitext(DATASET_FILE)\n",
    "file_name = file_path.split(os.path.sep)[-1]\n",
    "file_extension = file_extension.strip('.')\n",
    "dataset_extracter = EXTENSION_MAPPING['read'].get(file_extension)\n",
    "if dataset_extracter is None:\n",
    "    raise ValueError('Dataset type not supported')\n",
    "df = getattr(pd, dataset_extracter)(DATASET_FILE)\n",
    "\n"
   ]
  },
  {
   "cell_type": "code",
   "execution_count": null,
   "metadata": {
    "collapsed": true
   },
   "outputs": [],
   "source": [
    "# Exploratory Analysis Sections.\n",
    "# Display shapes\n",
    "df.shape"
   ]
  },
  {
   "cell_type": "code",
   "execution_count": 59,
   "metadata": {
    "collapsed": true
   },
   "outputs": [],
   "source": [
    "# Storage of results.\n",
    "result_time = datetime.utcnow().strftime('%s')\n",
    "save_dataset_fn = EXTENSION_MAPPING['save'].get(file_extension.strip('.'))\n",
    "getattr(df, save_dataset_fn)(os.path.join(RESULT_DIR, '{}.result.{}.{}'.format(file_name, result_time, file_extension)))"
   ]
  }
 ],
 "metadata": {
  "anaconda-cloud": {},
  "kernelspec": {
   "display_name": "Python [Root]",
   "language": "python",
   "name": "Python [Root]"
  },
  "language_info": {
   "codemirror_mode": {
    "name": "ipython",
    "version": 3
   },
   "file_extension": ".py",
   "mimetype": "text/x-python",
   "name": "python",
   "nbconvert_exporter": "python",
   "pygments_lexer": "ipython3",
   "version": "3.5.2"
  }
 },
 "nbformat": 4,
 "nbformat_minor": 2
}
